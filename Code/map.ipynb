{
 "cells": [
  {
   "cell_type": "markdown",
   "metadata": {},
   "source": [
    "# Python map()函数的使用\n",
    "\n",
    "`map()`是一个Python内置的函数，根据提供的函数对指定的序列做映射。\n",
    "\n",
    "## 一、map()函数的简洁以及语法\n",
    "\n",
    "`map()`函数的格式是：\n",
    "\n",
    "```python\n",
    "(class)map(func, *iterable)--> map object\n",
    "# Make an iterator that computes the function using arguments from each of the iterables.\n",
    "# Stops when the shortest iterable is exhausted.\n",
    "```\n",
    "\n",
    "它需要两个必须的参数：\n",
    "- `func`：针对每一次迭代调用的函数\n",
    "- `iterable`：支持迭代的一个或者多个对象。例如`list`, `dictionaries`和`tuple`。\n",
    "- `map object`：返回与传入可迭代对象长度一样的map对象"
   ]
  },
  {
   "cell_type": "code",
   "execution_count": 3,
   "metadata": {},
   "outputs": [
    {
     "name": "stdout",
     "output_type": "stream",
     "text": [
      "['HELLO', 'WORLD', 'PYTHON', 'PRIMER']\n"
     ]
    }
   ],
   "source": [
    "# ex1：将一个字符串列表中的每个元素都转换成大写字母形式\n",
    "l1 = ['hello', 'world', 'python', 'primer']\n",
    "l2 = []\n",
    "\n",
    "for element in l1:\n",
    "    upper = element.upper()\n",
    "    l2.append(upper)\n",
    "print(l2)   # ['HELLO', 'WORLD', 'PYTHON', 'PRIMER']"
   ]
  },
  {
   "cell_type": "code",
   "execution_count": 5,
   "metadata": {},
   "outputs": [
    {
     "data": {
      "text/plain": [
       "['HELLO', 'WORLD', 'PYTHON', 'PRIMER']"
      ]
     },
     "execution_count": 5,
     "metadata": {},
     "output_type": "execute_result"
    }
   ],
   "source": [
    "# ex2：使用map()函数\n",
    "list(map(str.upper, l2))    # ['HELLO', 'WORLD', 'PYTHON', 'PRIMER']"
   ]
  },
  {
   "cell_type": "code",
   "execution_count": 6,
   "metadata": {},
   "outputs": [
    {
     "name": "stdout",
     "output_type": "stream",
     "text": [
      "F A C C B A A "
     ]
    }
   ],
   "source": [
    "# ex3：根据成绩评级\n",
    "import bisect\n",
    "def grade(score, breakpoints=[60, 70, 80, 90], grades='FDCBA'):\n",
    "    \"\"\"\n",
    "    @score: 分数\n",
    "    @breakpoints: 分数线\n",
    "    @grades: 等级\n",
    "    \"\"\"\n",
    "    index = bisect.bisect(breakpoints, score)\n",
    "    return grades[index]\n",
    "\n",
    "scores = [33, 99, 77, 70, 89, 90, 100]\n",
    "for i in map(grade, scores):\n",
    "    print(i, end=' ')   # F A C C B A A "
   ]
  },
  {
   "cell_type": "markdown",
   "metadata": {},
   "source": [
    "## 二、对多个迭代对象使用map()\n",
    "\n",
    "可以将任意多个迭代对象传递给`map()`函数。回调函数`func`接受的必填输入参数的数量，必须和可迭代对象的数量一致。"
   ]
  },
  {
   "cell_type": "code",
   "execution_count": 7,
   "metadata": {},
   "outputs": [
    {
     "name": "stdout",
     "output_type": "stream",
     "text": [
      "[4, 10, 18]\n"
     ]
    }
   ],
   "source": [
    "# ex4: 求两个列表对应元素乘积\n",
    "def multiply(x, y):\n",
    "    return x * y\n",
    "\n",
    "a = [1, 2, 3]\n",
    "b = [4, 5, 6]\n",
    "\n",
    "result = list(map(multiply, a, b))\n",
    "print(result)   # [4, 10, 18]"
   ]
  },
  {
   "cell_type": "markdown",
   "metadata": {},
   "source": [
    "当提供的多个可迭代对象的长度不一致时，在最短对象元素全部迭代后结束，返回`map object`长度与最短`iterable`长度一致。"
   ]
  },
  {
   "cell_type": "code",
   "execution_count": 8,
   "metadata": {},
   "outputs": [
    {
     "name": "stdout",
     "output_type": "stream",
     "text": [
      "[1, 4, 27]\n"
     ]
    }
   ],
   "source": [
    "def func(x, y):\n",
    "    return x ** y\n",
    "\n",
    "a = [1, 2, 3]\n",
    "b = [1, 2, 3, 4]\n",
    "\n",
    "result = list(map(func, a, b))\n",
    "print(result)   # [1, 4, 27]"
   ]
  }
 ],
 "metadata": {
  "kernelspec": {
   "display_name": "Python 3.8.8 ('base')",
   "language": "python",
   "name": "python3"
  },
  "language_info": {
   "codemirror_mode": {
    "name": "ipython",
    "version": 3
   },
   "file_extension": ".py",
   "mimetype": "text/x-python",
   "name": "python",
   "nbconvert_exporter": "python",
   "pygments_lexer": "ipython3",
   "version": "3.8.8"
  },
  "orig_nbformat": 4,
  "vscode": {
   "interpreter": {
    "hash": "8967b6ecdc3a387f4ee01c8c6ec3fd3c2fc0d54335c2d6cf895885a0f9327229"
   }
  }
 },
 "nbformat": 4,
 "nbformat_minor": 2
}
